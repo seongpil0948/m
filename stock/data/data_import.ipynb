{
 "metadata": {
  "language_info": {
   "codemirror_mode": {
    "name": "ipython",
    "version": 3
   },
   "file_extension": ".py",
   "mimetype": "text/x-python",
   "name": "python",
   "nbconvert_exporter": "python",
   "pygments_lexer": "ipython3",
   "version": "3.8.3-final"
  },
  "orig_nbformat": 2,
  "kernelspec": {
   "name": "python38364bitmconda292a4eafb10f4347bf8908a2749a27b8",
   "display_name": "Python 3.8.3 64-bit ('m': conda)"
  }
 },
 "nbformat": 4,
 "nbformat_minor": 2,
 "cells": [
  {
   "cell_type": "code",
   "execution_count": 3,
   "metadata": {
    "tags": []
   },
   "outputs": [
    {
     "output_type": "stream",
     "name": "stdout",
     "text": "[*********************100%***********************]  1 of 1 completed\n[*********************100%***********************]  1 of 1 completed\n"
    },
    {
     "output_type": "execute_result",
     "data": {
      "text/plain": "Index(['Open', 'High', 'Low', 'Close', 'Adj Close', 'Volume'], dtype='object')"
     },
     "metadata": {},
     "execution_count": 3
    }
   ],
   "source": [
    "import sys, os\n",
    "import pandas as pd\n",
    "from pandas_datareader import data as pdr\n",
    "import yfinance as yf\n",
    "yf.pdr_override()\n",
    "\n",
    "dow = pdr.get_data_yahoo('^DJI', '2010-01-04')   \n",
    "kospi = pdr.get_data_yahoo('^KS11', '2010-01-04')\n",
    "dow.columns"
   ]
  },
  {
   "cell_type": "code",
   "execution_count": 10,
   "metadata": {},
   "outputs": [
    {
     "output_type": "execute_result",
     "data": {
      "text/plain": "      date  date       Date          Open          High           Low  \\\n0        0     0 2010-01-04  10430.690430  10604.969727  10430.690430   \n1        1     1 2010-01-05  10584.559570  10584.559570  10522.519531   \n2        2     2 2010-01-06  10564.719727  10594.990234  10546.549805   \n3        3     3 2010-01-07  10571.110352  10612.370117  10505.209961   \n4        4     4 2010-01-08  10606.400391  10619.400391  10554.330078   \n...    ...   ...        ...           ...           ...           ...   \n2663  2663  2663 2020-08-03  26542.320312  26707.259766  26534.380859   \n2664  2664  2664 2020-08-04  26664.609375  26832.720703  26597.820312   \n2665  2665  2665 2020-08-05  26924.779297  27221.669922  26924.779297   \n2666  2666  2666 2020-08-06  27170.820312  27394.099609  27145.250000   \n2667  2667  2667 2020-08-07  27321.679688  27456.240234  27223.550781   \n\n             Close     Adj Close     Volume  \n0     10583.959961  10583.959961  179780000  \n1     10572.019531  10572.019531  188540000  \n2     10573.679688  10573.679688  186040000  \n3     10606.860352  10606.860352  217390000  \n4     10618.190430  10618.190430  172710000  \n...            ...           ...        ...  \n2663  26664.400391  26664.400391  439380000  \n2664  26828.470703  26828.470703  346350000  \n2665  27201.519531  27201.519531  366000000  \n2666  27386.980469  27386.980469  322460000  \n2667  27433.480469  27433.480469  321170000  \n\n[2668 rows x 9 columns]",
      "text/html": "<div>\n<style scoped>\n    .dataframe tbody tr th:only-of-type {\n        vertical-align: middle;\n    }\n\n    .dataframe tbody tr th {\n        vertical-align: top;\n    }\n\n    .dataframe thead th {\n        text-align: right;\n    }\n</style>\n<table border=\"1\" class=\"dataframe\">\n  <thead>\n    <tr style=\"text-align: right;\">\n      <th></th>\n      <th>date</th>\n      <th>date</th>\n      <th>Date</th>\n      <th>Open</th>\n      <th>High</th>\n      <th>Low</th>\n      <th>Close</th>\n      <th>Adj Close</th>\n      <th>Volume</th>\n    </tr>\n  </thead>\n  <tbody>\n    <tr>\n      <th>0</th>\n      <td>0</td>\n      <td>0</td>\n      <td>2010-01-04</td>\n      <td>10430.690430</td>\n      <td>10604.969727</td>\n      <td>10430.690430</td>\n      <td>10583.959961</td>\n      <td>10583.959961</td>\n      <td>179780000</td>\n    </tr>\n    <tr>\n      <th>1</th>\n      <td>1</td>\n      <td>1</td>\n      <td>2010-01-05</td>\n      <td>10584.559570</td>\n      <td>10584.559570</td>\n      <td>10522.519531</td>\n      <td>10572.019531</td>\n      <td>10572.019531</td>\n      <td>188540000</td>\n    </tr>\n    <tr>\n      <th>2</th>\n      <td>2</td>\n      <td>2</td>\n      <td>2010-01-06</td>\n      <td>10564.719727</td>\n      <td>10594.990234</td>\n      <td>10546.549805</td>\n      <td>10573.679688</td>\n      <td>10573.679688</td>\n      <td>186040000</td>\n    </tr>\n    <tr>\n      <th>3</th>\n      <td>3</td>\n      <td>3</td>\n      <td>2010-01-07</td>\n      <td>10571.110352</td>\n      <td>10612.370117</td>\n      <td>10505.209961</td>\n      <td>10606.860352</td>\n      <td>10606.860352</td>\n      <td>217390000</td>\n    </tr>\n    <tr>\n      <th>4</th>\n      <td>4</td>\n      <td>4</td>\n      <td>2010-01-08</td>\n      <td>10606.400391</td>\n      <td>10619.400391</td>\n      <td>10554.330078</td>\n      <td>10618.190430</td>\n      <td>10618.190430</td>\n      <td>172710000</td>\n    </tr>\n    <tr>\n      <th>...</th>\n      <td>...</td>\n      <td>...</td>\n      <td>...</td>\n      <td>...</td>\n      <td>...</td>\n      <td>...</td>\n      <td>...</td>\n      <td>...</td>\n      <td>...</td>\n    </tr>\n    <tr>\n      <th>2663</th>\n      <td>2663</td>\n      <td>2663</td>\n      <td>2020-08-03</td>\n      <td>26542.320312</td>\n      <td>26707.259766</td>\n      <td>26534.380859</td>\n      <td>26664.400391</td>\n      <td>26664.400391</td>\n      <td>439380000</td>\n    </tr>\n    <tr>\n      <th>2664</th>\n      <td>2664</td>\n      <td>2664</td>\n      <td>2020-08-04</td>\n      <td>26664.609375</td>\n      <td>26832.720703</td>\n      <td>26597.820312</td>\n      <td>26828.470703</td>\n      <td>26828.470703</td>\n      <td>346350000</td>\n    </tr>\n    <tr>\n      <th>2665</th>\n      <td>2665</td>\n      <td>2665</td>\n      <td>2020-08-05</td>\n      <td>26924.779297</td>\n      <td>27221.669922</td>\n      <td>26924.779297</td>\n      <td>27201.519531</td>\n      <td>27201.519531</td>\n      <td>366000000</td>\n    </tr>\n    <tr>\n      <th>2666</th>\n      <td>2666</td>\n      <td>2666</td>\n      <td>2020-08-06</td>\n      <td>27170.820312</td>\n      <td>27394.099609</td>\n      <td>27145.250000</td>\n      <td>27386.980469</td>\n      <td>27386.980469</td>\n      <td>322460000</td>\n    </tr>\n    <tr>\n      <th>2667</th>\n      <td>2667</td>\n      <td>2667</td>\n      <td>2020-08-07</td>\n      <td>27321.679688</td>\n      <td>27456.240234</td>\n      <td>27223.550781</td>\n      <td>27433.480469</td>\n      <td>27433.480469</td>\n      <td>321170000</td>\n    </tr>\n  </tbody>\n</table>\n<p>2668 rows × 9 columns</p>\n</div>"
     },
     "metadata": {},
     "execution_count": 10
    }
   ],
   "source": [
    "dow = dow.reset_index().rename(columns={'index': 'date'}) \n",
    "dow.head()\n",
    "dow = dow.fillna('ffill')\n",
    "dow"
   ]
  },
  {
   "cell_type": "code",
   "execution_count": null,
   "metadata": {},
   "outputs": [],
   "source": []
  },
  {
   "cell_type": "code",
   "execution_count": null,
   "metadata": {},
   "outputs": [],
   "source": [
    "# df = pd.DataFrame({'X':dow['Close'], 'Y':kospi['Close']})\n",
    "# df = df.fillna(method='bfill') # 뒤에 값으로 채우기\n",
    "# df = df.fillna(method='ffill') # 앞의 값으로 채우기"
   ]
  },
  {
   "cell_type": "code",
   "execution_count": 26,
   "metadata": {},
   "outputs": [
    {
     "output_type": "execute_result",
     "data": {
      "text/plain": "   번호    종목코드      기업명    업종코드               업종     상장주식수(주)  \\\n0   1   95570   AJ네트웍스  147603  산업용 기계 및 장비 임대업   46,822,295   \n1   2    6840    AK홀딩스  116409           기타 금융업   13,247,561   \n2   3   27410      BGF  116409           기타 금융업   95,716,791   \n3   4  282330   BGF리테일   74701           종합 소매업   17,283,906   \n4   5  138930  BNK금융지주  116409           기타 금융업  325,935,246   \n\n              자본금(원) 액면가(원)    통화구분          대표전화  \\\n0     46,822,295,000  1,000  원(KRW)  02-6363-9999   \n1     66,237,805,000  5,000  원(KRW)   02-768-2923   \n2     95,716,791,000  1,000     NaN     1577-3663   \n3     17,283,906,000  1,000  원(KRW)  02-1577-8007   \n4  1,629,676,230,000  5,000  원(KRW)  051-620-3023   \n\n                             주소  총카운트  \n0  서울특별시 송파구 정의로8길 9 (문정동,AJ빌딩)   794  \n1          서울특별시 마포구 양화로 188 -    794  \n2           서울특별시 강남구 테헤란로 405    794  \n3      서울특별시 강남구 테헤란로 405 BGF사옥   794  \n4       부산광역시 남구 문현금융로 30(문현동)    794  ",
      "text/html": "<div>\n<style scoped>\n    .dataframe tbody tr th:only-of-type {\n        vertical-align: middle;\n    }\n\n    .dataframe tbody tr th {\n        vertical-align: top;\n    }\n\n    .dataframe thead th {\n        text-align: right;\n    }\n</style>\n<table border=\"1\" class=\"dataframe\">\n  <thead>\n    <tr style=\"text-align: right;\">\n      <th></th>\n      <th>번호</th>\n      <th>종목코드</th>\n      <th>기업명</th>\n      <th>업종코드</th>\n      <th>업종</th>\n      <th>상장주식수(주)</th>\n      <th>자본금(원)</th>\n      <th>액면가(원)</th>\n      <th>통화구분</th>\n      <th>대표전화</th>\n      <th>주소</th>\n      <th>총카운트</th>\n    </tr>\n  </thead>\n  <tbody>\n    <tr>\n      <th>0</th>\n      <td>1</td>\n      <td>95570</td>\n      <td>AJ네트웍스</td>\n      <td>147603</td>\n      <td>산업용 기계 및 장비 임대업</td>\n      <td>46,822,295</td>\n      <td>46,822,295,000</td>\n      <td>1,000</td>\n      <td>원(KRW)</td>\n      <td>02-6363-9999</td>\n      <td>서울특별시 송파구 정의로8길 9 (문정동,AJ빌딩)</td>\n      <td>794</td>\n    </tr>\n    <tr>\n      <th>1</th>\n      <td>2</td>\n      <td>6840</td>\n      <td>AK홀딩스</td>\n      <td>116409</td>\n      <td>기타 금융업</td>\n      <td>13,247,561</td>\n      <td>66,237,805,000</td>\n      <td>5,000</td>\n      <td>원(KRW)</td>\n      <td>02-768-2923</td>\n      <td>서울특별시 마포구 양화로 188 -</td>\n      <td>794</td>\n    </tr>\n    <tr>\n      <th>2</th>\n      <td>3</td>\n      <td>27410</td>\n      <td>BGF</td>\n      <td>116409</td>\n      <td>기타 금융업</td>\n      <td>95,716,791</td>\n      <td>95,716,791,000</td>\n      <td>1,000</td>\n      <td>NaN</td>\n      <td>1577-3663</td>\n      <td>서울특별시 강남구 테헤란로 405</td>\n      <td>794</td>\n    </tr>\n    <tr>\n      <th>3</th>\n      <td>4</td>\n      <td>282330</td>\n      <td>BGF리테일</td>\n      <td>74701</td>\n      <td>종합 소매업</td>\n      <td>17,283,906</td>\n      <td>17,283,906,000</td>\n      <td>1,000</td>\n      <td>원(KRW)</td>\n      <td>02-1577-8007</td>\n      <td>서울특별시 강남구 테헤란로 405 BGF사옥</td>\n      <td>794</td>\n    </tr>\n    <tr>\n      <th>4</th>\n      <td>5</td>\n      <td>138930</td>\n      <td>BNK금융지주</td>\n      <td>116409</td>\n      <td>기타 금융업</td>\n      <td>325,935,246</td>\n      <td>1,629,676,230,000</td>\n      <td>5,000</td>\n      <td>원(KRW)</td>\n      <td>051-620-3023</td>\n      <td>부산광역시 남구 문현금융로 30(문현동)</td>\n      <td>794</td>\n    </tr>\n  </tbody>\n</table>\n</div>"
     },
     "metadata": {},
     "execution_count": 26
    }
   ],
   "source": [
    "df = pd.read_csv('corper_list.csv')\n",
    "df.head()\n"
   ]
  },
  {
   "cell_type": "code",
   "execution_count": 27,
   "metadata": {
    "tags": [
     "outputPrepend"
    ]
   },
   "outputs": [
    {
     "output_type": "stream",
     "name": "stdout",
     "text": "[*********************100%***********************]  1 of 1 completed\n\n1 Failed download:\n- 84870.KS: No data found, symbol may be delisted\n[*********************100%***********************]  1 of 1 completed\n\n1 Failed download:\n- 19180.KS: No data found, symbol may be delisted\n[*********************100%***********************]  1 of 1 completed\n\n1 Failed download:\n- 91810.KS: No data found, symbol may be delisted\n[*********************100%***********************]  1 of 1 completed\n\n1 Failed download:\n- 4870.KS: No data found, symbol may be delisted\n[*********************100%***********************]  1 of 1 completed\n\n1 Failed download:\n- 5690.KS: No data found, symbol may be delisted\n[*********************100%***********************]  1 of 1 completed\n\n1 Failed download:\n- 36580.KS: No data found, symbol may be delisted\n[*********************100%***********************]  1 of 1 completed\n\n1 Failed download:\n- 28670.KS: No data found, symbol may be delisted\n[*********************100%***********************]  1 of 1 completed\n\n1 Failed download:\n- 10820.KS: No data found, symbol may be delisted\n[*********************100%***********************]  1 of 1 completed\n\n1 Failed download:\n- 16800.KS: No data found, symbol may be delisted\n[*********************100%***********************]  1 of 1 completed\n\n1 Failed download:\n- 1020.KS: No data found, symbol may be delisted\n[*********************100%***********************]  1 of 1 completed\n\n1 Failed download:\n- 90080.KS: No data found, symbol may be delisted\n[*********************100%***********************]  1 of 1 completed\n\n1 Failed download:\n- 10770.KS: No data found, symbol may be delisted\n[*********************100%***********************]  1 of 1 completed\n\n1 Failed download:\n- 5490.KS: No data found, symbol may be delisted\n[*********************100%***********************]  1 of 1 completed\n\n1 Failed download:\n- 58430.KS: No data found, symbol may be delisted\n[*********************100%***********************]  1 of 1 completed\n\n1 Failed download:\n- 47050.KS: No data found, symbol may be delisted\n[*********************100%***********************]  1 of 1 completed\n\n1 Failed download:\n- 3670.KS: No data found, symbol may be delisted\n[*********************100%***********************]  1 of 1 completed\n\n1 Failed download:\n- 7630.KS: No data found, symbol may be delisted\n[*********************100%***********************]  1 of 1 completed\n\n1 Failed download:\n- 17810.KS: No data found, symbol may be delisted\n[*********************100%***********************]  1 of 1 completed\n[*********************100%***********************]  1 of 1 completed\n\n1 Failed download:\n- 5810.KS: No data found, symbol may be delisted\n[*********************100%***********************]  1 of 1 completed\n\n1 Failed download:\n- 33180.KS: No data found, symbol may be delisted\n[*********************100%***********************]  1 of 1 completed\n\n1 Failed download:\n- 86790.KS: No data found, symbol may be delisted\n[*********************100%***********************]  1 of 1 completed\n[*********************100%***********************]  1 of 1 completed\n\n1 Failed download:\n- 39130.KS: No data found, symbol may be delisted\n[*********************100%***********************]  1 of 1 completed\n[*********************100%***********************]  1 of 1 completed\n[*********************100%***********************]  1 of 1 completed\n\n1 Failed download:\n- 71090.KS: No data found, symbol may be delisted\n[*********************100%***********************]  1 of 1 completed\n\n1 Failed download:\n- 19490.KS: No data found, symbol may be delisted\n[*********************100%***********************]  1 of 1 completed\n\n1 Failed download:\n- 80.KS: No data found, symbol may be delisted\n[*********************100%***********************]  1 of 1 completed\n\n1 Failed download:\n- 140.KS: No data found, symbol may be delisted\n[*********************100%***********************]  1 of 1 completed\n[*********************100%***********************]  1 of 1 completed\n\n1 Failed download:\n- 36460.KS: No data found, symbol may be delisted\n[*********************100%***********************]  1 of 1 completed\n\n1 Failed download:\n- 5430.KS: No data found, symbol may be delisted\n[*********************100%***********************]  1 of 1 completed\n\n1 Failed download:\n- 71050.KS: No data found, symbol may be delisted\n[*********************100%***********************]  1 of 1 completed\n\n1 Failed download:\n- 10040.KS: No data found, symbol may be delisted\n[*********************100%***********************]  1 of 1 completed\n\n1 Failed download:\n- 25540.KS: No data found, symbol may be delisted\n[*********************100%***********************]  1 of 1 completed\n\n1 Failed download:\n- 4090.KS: No data found, symbol may be delisted\n[*********************100%***********************]  1 of 1 completed\n\n1 Failed download:\n- 2200.KS: No data found, symbol may be delisted\n[*********************100%***********************]  1 of 1 completed\n\n1 Failed download:\n- 2960.KS: No data found, symbol may be delisted\n[*********************100%***********************]  1 of 1 completed\n[*********************100%***********************]  1 of 1 completed\n\n1 Failed download:\n- 15760.KS: No data found, symbol may be delisted\n[*********************100%***********************]  1 of 1 completed\n\n1 Failed download:\n- 6200.KS: No data found, symbol may be delisted\n[*********************100%***********************]  1 of 1 completed\n\n1 Failed download:\n- 9540.KS: No data found, symbol may be delisted\n[*********************100%***********************]  1 of 1 completed\n\n1 Failed download:\n- 23350.KS: No data found, symbol may be delisted\n[*********************100%***********************]  1 of 1 completed\n\n1 Failed download:\n- 25890.KS: No data found, symbol may be delisted\n[*********************100%***********************]  1 of 1 completed\n\n1 Failed download:\n- 970.KS: No data found, symbol may be delisted\n[*********************100%***********************]  1 of 1 completed\n[*********************100%***********************]  1 of 1 completed\n\n1 Failed download:\n- 17960.KS: No data found, symbol may be delisted\n[*********************100%***********************]  1 of 1 completed\n[*********************100%***********************]  1 of 1 completed\n\n1 Failed download:\n- 24720.KS: No data found, symbol may be delisted\n[*********************100%***********************]  1 of 1 completed\n[*********************100%***********************]  1 of 1 completed\n\n1 Failed download:\n- 240.KS: No data found, symbol may be delisted\n[*********************100%***********************]  1 of 1 completed\n\n1 Failed download:\n- 34830.KS: No data found, symbol may be delisted\n[*********************100%***********************]  1 of 1 completed\n\n1 Failed download:\n- 7280.KS: No data found, symbol may be delisted\n[*********************100%***********************]  1 of 1 completed\n[*********************100%***********************]  1 of 1 completed\n\n1 Failed download:\n- 10100.KS: No data found, symbol may be delisted\n[*********************100%***********************]  1 of 1 completed\n\n1 Failed download:\n- 47810.KS: No data found, symbol may be delisted\n[*********************100%***********************]  1 of 1 completed\n[*********************100%***********************]  1 of 1 completed\n\n1 Failed download:\n- 3350.KS: No data found, symbol may be delisted\n[*********************100%***********************]  1 of 1 completed\n\n1 Failed download:\n- 11500.KS: No data found, symbol may be delisted\n[*********************100%***********************]  1 of 1 completed\n\n1 Failed download:\n- 2390.KS: No data found, symbol may be delisted\n[*********************100%***********************]  1 of 1 completed\n\n1 Failed download:\n- 14790.KS: No data found, symbol may be delisted\n[*********************100%***********************]  1 of 1 completed\n\n1 Failed download:\n- 60980.KS: No data found, symbol may be delisted\n[*********************100%***********************]  1 of 1 completed\n\n1 Failed download:\n- 53690.KS: No data found, symbol may be delisted\n[*********************100%***********************]  1 of 1 completed\n\n1 Failed download:\n- 42700.KS: No data found, symbol may be delisted\n[*********************100%***********************]  1 of 1 completed\n\n1 Failed download:\n- 8930.KS: No data found, symbol may be delisted\n[*********************100%***********************]  1 of 1 completed\n[*********************100%***********************]  1 of 1 completed\n\n1 Failed download:\n- 9240.KS: No data found, symbol may be delisted\n[*********************100%***********************]  1 of 1 completed\n\n1 Failed download:\n- 20000.KS: No data found, symbol may be delisted\n[*********************100%***********************]  1 of 1 completed\n\n1 Failed download:\n- 3680.KS: No data found, symbol may be delisted\n[*********************100%***********************]  1 of 1 completed\n[*********************100%***********************]  1 of 1 completed\n\n1 Failed download:\n- 69640.KS: No data found, symbol may be delisted\n[*********************100%***********************]  1 of 1 completed\n\n1 Failed download:\n- 16450.KS: No data found, symbol may be delisted\n[*********************100%***********************]  1 of 1 completed\n\n1 Failed download:\n- 9180.KS: No data found, symbol may be delisted\n[*********************100%***********************]  1 of 1 completed\n[*********************100%***********************]  1 of 1 completed\n\n1 Failed download:\n- 14680.KS: No data found, symbol may be delisted\n[*********************100%***********************]  1 of 1 completed\n\n1 Failed download:\n- 4710.KS: No data found, symbol may be delisted\n[*********************100%***********************]  1 of 1 completed\n\n1 Failed download:\n- 10420.KS: No data found, symbol may be delisted\n[*********************100%***********************]  1 of 1 completed\n\n1 Failed download:\n- 4150.KS: No data found, symbol may be delisted\n[*********************100%***********************]  1 of 1 completed\n\n1 Failed download:\n- 25750.KS: No data found, symbol may be delisted\n[*********************100%***********************]  1 of 1 completed\n\n1 Failed download:\n- 4960.KS: No data found, symbol may be delisted\n[*********************100%***********************]  1 of 1 completed\n\n1 Failed download:\n- 11700.KS: No data found, symbol may be delisted\n[*********************100%***********************]  1 of 1 completed\n\n1 Failed download:\n- 1750.KS: No data found, symbol may be delisted\n[*********************100%***********************]  1 of 1 completed\n\n1 Failed download:\n- 18880.KS: No data found, symbol may be delisted\n[*********************100%***********************]  1 of 1 completed\n\n1 Failed download:\n- 9420.KS: No data found, symbol may be delisted\n[*********************100%***********************]  1 of 1 completed\n\n1 Failed download:\n- 14130.KS: No data found, symbol may be delisted\n[*********************100%***********************]  1 of 1 completed\n[*********************100%***********************]  1 of 1 completed\n\n1 Failed download:\n- 2220.KS: No data found, symbol may be delisted\n[*********************100%***********************]  1 of 1 completed\n\n1 Failed download:\n- 6390.KS: No data found, symbol may be delisted\n[*********************100%***********************]  1 of 1 completed\n\n1 Failed download:\n- 3300.KS: No data found, symbol may be delisted\n[*********************100%***********************]  1 of 1 completed\n\n1 Failed download:\n- 51600.KS: No data found, symbol may be delisted\n[*********************100%***********************]  1 of 1 completed\n\n1 Failed download:\n- 52690.KS: No data found, symbol may be delisted\n[*********************100%***********************]  1 of 1 completed\n[*********************100%***********************]  1 of 1 completed\n\n1 Failed download:\n- 2320.KS: No data found, symbol may be delisted\n[*********************100%***********************]  1 of 1 completed\n\n1 Failed download:\n- 97230.KS: No data found, symbol may be delisted\n[*********************100%***********************]  1 of 1 completed\n\n1 Failed download:\n- 3480.KS: No data found, symbol may be delisted\n[*********************100%***********************]  1 of 1 completed\n[*********************100%***********************]  1 of 1 completed\n\n1 Failed download:\n- 5110.KS: No data found, symbol may be delisted\n[*********************100%***********************]  1 of 1 completed\n\n1 Failed download:\n- 9460.KS: No data found, symbol may be delisted\n[*********************100%***********************]  1 of 1 completed\n\n1 Failed download:\n- 880.KS: No data found, symbol may be delisted\n[*********************100%***********************]  1 of 1 completed\n\n1 Failed download:\n- 88350.KS: No data found, symbol may be delisted\n[*********************100%***********************]  1 of 1 completed\n\n1 Failed download:\n- 370.KS: No data found, symbol may be delisted\n[*********************100%***********************]  1 of 1 completed\n\n1 Failed download:\n- 9830.KS: No data found, symbol may be delisted\n[*********************100%***********************]  1 of 1 completed\n[*********************100%***********************]  1 of 1 completed\n\n1 Failed download:\n- 12450.KS: No data found, symbol may be delisted\n[*********************100%***********************]  1 of 1 completed\n\n1 Failed download:\n- 3530.KS: No data found, symbol may be delisted\n[*********************100%***********************]  1 of 1 completed\n[*********************100%***********************]  1 of 1 completed\n[*********************100%***********************]  1 of 1 completed\n[*********************100%***********************]  1 of 1 completed\n\n1 Failed download:\n- 720.KS: No data found, symbol may be delisted\n[*********************100%***********************]  1 of 1 completed\n[*********************100%***********************]  1 of 1 completed\n\n1 Failed download:\n- 5440.KS: No data found, symbol may be delisted\n[*********************100%***********************]  1 of 1 completed\n\n1 Failed download:\n- 86280.KS: No data found, symbol may be delisted\n[*********************100%***********************]  1 of 1 completed\n\n1 Failed download:\n- 64350.KS: No data found, symbol may be delisted\n[*********************100%***********************]  1 of 1 completed\n\n1 Failed download:\n- 79430.KS: No data found, symbol may be delisted\n[*********************100%***********************]  1 of 1 completed\n\n1 Failed download:\n- 12330.KS: No data found, symbol may be delisted\n[*********************100%***********************]  1 of 1 completed\n\n1 Failed download:\n- 10620.KS: No data found, symbol may be delisted\n[*********************100%***********************]  1 of 1 completed\n\n1 Failed download:\n- 69960.KS: No data found, symbol may be delisted\n[*********************100%***********************]  1 of 1 completed\n\n1 Failed download:\n- 4560.KS: No data found, symbol may be delisted\n[*********************100%***********************]  1 of 1 completed\n\n1 Failed download:\n- 4310.KS: No data found, symbol may be delisted\n[*********************100%***********************]  1 of 1 completed\n[*********************100%***********************]  1 of 1 completed\n[*********************100%***********************]  1 of 1 completed\n\n1 Failed download:\n- 17800.KS: No data found, symbol may be delisted\n[*********************100%***********************]  1 of 1 completed\n[*********************100%***********************]  1 of 1 completed\n\n1 Failed download:\n- 11210.KS: No data found, symbol may be delisted\n[*********************100%***********************]  1 of 1 completed\n[*********************100%***********************]  1 of 1 completed\n\n1 Failed download:\n- 5380.KS: No data found, symbol may be delisted\n[*********************100%***********************]  1 of 1 completed\n\n1 Failed download:\n- 4020.KS: No data found, symbol may be delisted\n[*********************100%***********************]  1 of 1 completed\n\n1 Failed download:\n- 11760.KS: No data found, symbol may be delisted\n[*********************100%***********************]  1 of 1 completed\n[*********************100%***********************]  1 of 1 completed\n\n1 Failed download:\n- 1500.KS: No data found, symbol may be delisted\n[*********************100%***********************]  1 of 1 completed\n[*********************100%***********************]  1 of 1 completed\n\n1 Failed download:\n- 1450.KS: No data found, symbol may be delisted\n[*********************100%***********************]  1 of 1 completed\n\n1 Failed download:\n- 57050.KS: No data found, symbol may be delisted\n[*********************100%***********************]  1 of 1 completed\n\n1 Failed download:\n- 93240.KS: No data found, symbol may be delisted\n[*********************100%***********************]  1 of 1 completed\n\n1 Failed download:\n- 3010.KS: No data found, symbol may be delisted\n[*********************100%***********************]  1 of 1 completed\n[*********************100%***********************]  1 of 1 completed\n\n1 Failed download:\n- 8770.KS: No data found, symbol may be delisted\n[*********************100%***********************]  1 of 1 completed\n\n1 Failed download:\n- 2460.KS: No data found, symbol may be delisted\n[*********************100%***********************]  1 of 1 completed\n\n1 Failed download:\n- 13520.KS: No data found, symbol may be delisted\n[*********************100%***********************]  1 of 1 completed\n[*********************100%***********************]  1 of 1 completed\n\n1 Failed download:\n- 6060.KS: No data found, symbol may be delisted\n[*********************100%***********************]  1 of 1 completed\n\n1 Failed download:\n- 10690.KS: No data found, symbol may be delisted\n[*********************100%***********************]  1 of 1 completed\n[*********************100%***********************]  1 of 1 completed\n\n1 Failed download:\n- 10660.KS: No data found, symbol may be delisted\n[*********************100%***********************]  1 of 1 completed\n\n1 Failed download:\n- 850.KS: No data found, symbol may be delisted\n[*********************100%***********************]  1 of 1 completed\n\n1 Failed download:\n- 16580.KS: No data found, symbol may be delisted\n[*********************100%***********************]  1 of 1 completed\n\n1 Failed download:\n- 32560.KS: No data found, symbol may be delisted\n[*********************100%***********************]  1 of 1 completed\n\n1 Failed download:\n- 4800.KS: No data found, symbol may be delisted\n[*********************100%***********************]  1 of 1 completed\n\n1 Failed download:\n- 94280.KS: No data found, symbol may be delisted\n[*********************100%***********************]  1 of 1 completed\n[*********************100%***********************]  1 of 1 completed\n[*********************100%***********************]  1 of 1 completed\n[*********************100%***********************]  1 of 1 completed\n[*********************100%***********************]  1 of 1 completed\n\n1 Failed download:\n- 93370.KS: No data found, symbol may be delisted\n[*********************100%***********************]  1 of 1 completed\n\n1 Failed download:\n- 81660.KS: No data found, symbol may be delisted\n[*********************100%***********************]  1 of 1 completed\n\n1 Failed download:\n- 5870.KS: No data found, symbol may be delisted\n[*********************100%***********************]  1 of 1 completed\n\n1 Failed download:\n- 79980.KS: No data found, symbol may be delisted\n[*********************100%***********************]  1 of 1 completed\n\n1 Failed download:\n- 5010.KS: No data found, symbol may be delisted\n[*********************100%***********************]  1 of 1 completed\n\n1 Failed download:\n- 69260.KS: No data found, symbol may be delisted\n[*********************100%***********************]  1 of 1 completed\n\n1 Failed download:\n- 540.KS: No data found, symbol may be delisted\n[*********************100%***********************]  1 of 1 completed\n\n1 Failed download:\n- 3280.KS: No data found, symbol may be delisted\n"
    }
   ],
   "source": [
    "df['is_valid'] = df['종목코드'].map(lambda row: pdr.get_data_yahoo(f'{row}.KS', '2010-01-04').shape[0] > 100)"
   ]
  },
  {
   "cell_type": "code",
   "execution_count": 8,
   "metadata": {},
   "outputs": [
    {
     "output_type": "error",
     "ename": "NameError",
     "evalue": "name 'df' is not defined",
     "traceback": [
      "\u001b[0;31m---------------------------------------------------------------------------\u001b[0m",
      "\u001b[0;31mNameError\u001b[0m                                 Traceback (most recent call last)",
      "\u001b[0;32m<ipython-input-8-ed00ae269ebe>\u001b[0m in \u001b[0;36m<module>\u001b[0;34m\u001b[0m\n\u001b[0;32m----> 1\u001b[0;31m \u001b[0mprint\u001b[0m\u001b[0;34m(\u001b[0m\u001b[0mdf\u001b[0m\u001b[0;34m.\u001b[0m\u001b[0mshape\u001b[0m\u001b[0;34m)\u001b[0m\u001b[0;34m\u001b[0m\u001b[0;34m\u001b[0m\u001b[0m\n\u001b[0m\u001b[1;32m      2\u001b[0m \u001b[0mvalid_df\u001b[0m \u001b[0;34m=\u001b[0m \u001b[0mdf\u001b[0m\u001b[0;34m[\u001b[0m\u001b[0mdf\u001b[0m\u001b[0;34m[\u001b[0m\u001b[0;34m'is_valid'\u001b[0m\u001b[0;34m]\u001b[0m \u001b[0;34m==\u001b[0m \u001b[0;32mTrue\u001b[0m\u001b[0;34m]\u001b[0m\u001b[0;34m\u001b[0m\u001b[0;34m\u001b[0m\u001b[0m\n\u001b[1;32m      3\u001b[0m \u001b[0mvalid_df\u001b[0m\u001b[0;34m.\u001b[0m\u001b[0mshape\u001b[0m\u001b[0;34m\u001b[0m\u001b[0;34m\u001b[0m\u001b[0m\n\u001b[1;32m      4\u001b[0m \u001b[0mvalid_df\u001b[0m\u001b[0;34m.\u001b[0m\u001b[0mhead\u001b[0m\u001b[0;34m(\u001b[0m\u001b[0;34m)\u001b[0m\u001b[0;34m\u001b[0m\u001b[0;34m\u001b[0m\u001b[0m\n",
      "\u001b[0;31mNameError\u001b[0m: name 'df' is not defined"
     ]
    }
   ],
   "source": [
    "print(df.shape)\n",
    "valid_df = df[df['is_valid'] == True]\n",
    "valid_df.shape\n",
    "valid_df.head()"
   ]
  },
  {
   "cell_type": "code",
   "execution_count": 1,
   "metadata": {},
   "outputs": [
    {
     "output_type": "error",
     "ename": "NameError",
     "evalue": "name 'valid_df' is not defined",
     "traceback": [
      "\u001b[0;31m---------------------------------------------------------------------------\u001b[0m",
      "\u001b[0;31mNameError\u001b[0m                                 Traceback (most recent call last)",
      "\u001b[0;32m<ipython-input-1-38b8a4b5fa35>\u001b[0m in \u001b[0;36m<module>\u001b[0;34m\u001b[0m\n\u001b[0;32m----> 1\u001b[0;31m \u001b[0mfinal_df\u001b[0m \u001b[0;34m=\u001b[0m \u001b[0mvalid_df\u001b[0m\u001b[0;34m[\u001b[0m\u001b[0;34m[\u001b[0m\u001b[0;34m'종목코드'\u001b[0m\u001b[0;34m,\u001b[0m \u001b[0;34m'업종코드'\u001b[0m\u001b[0;34m,\u001b[0m \u001b[0;34m'기업명'\u001b[0m\u001b[0;34m]\u001b[0m\u001b[0;34m]\u001b[0m\u001b[0;34m\u001b[0m\u001b[0;34m\u001b[0m\u001b[0m\n\u001b[0m\u001b[1;32m      2\u001b[0m \u001b[0;32mfor\u001b[0m \u001b[0midx\u001b[0m\u001b[0;34m,\u001b[0m \u001b[0mrow\u001b[0m \u001b[0;32min\u001b[0m \u001b[0mfinal_df\u001b[0m\u001b[0;34m.\u001b[0m\u001b[0miloc\u001b[0m\u001b[0;34m[\u001b[0m\u001b[0;36m1\u001b[0m\u001b[0;34m:\u001b[0m\u001b[0;34m]\u001b[0m\u001b[0;34m.\u001b[0m\u001b[0miterrows\u001b[0m\u001b[0;34m(\u001b[0m\u001b[0;34m)\u001b[0m\u001b[0;34m:\u001b[0m\u001b[0;34m\u001b[0m\u001b[0;34m\u001b[0m\u001b[0m\n\u001b[1;32m      3\u001b[0m     Company.objects.create(\n\u001b[1;32m      4\u001b[0m         \u001b[0mcode\u001b[0m\u001b[0;34m=\u001b[0m\u001b[0mrow\u001b[0m\u001b[0;34m[\u001b[0m\u001b[0;34m'종목코드'\u001b[0m\u001b[0;34m]\u001b[0m\u001b[0;34m,\u001b[0m\u001b[0;34m\u001b[0m\u001b[0;34m\u001b[0m\u001b[0m\n\u001b[1;32m      5\u001b[0m         \u001b[0mindustry_code\u001b[0m\u001b[0;34m=\u001b[0m\u001b[0mrow\u001b[0m\u001b[0;34m[\u001b[0m\u001b[0;34m'업종코드'\u001b[0m\u001b[0;34m]\u001b[0m\u001b[0;34m,\u001b[0m\u001b[0;34m\u001b[0m\u001b[0;34m\u001b[0m\u001b[0m\n",
      "\u001b[0;31mNameError\u001b[0m: name 'valid_df' is not defined"
     ]
    }
   ],
   "source": [
    "final_df = valid_df[['종목코드', '업종코드', '기업명']]\n",
    "for idx, row in final_df.iloc[1:].iterrows():\n",
    "    Company.objects.create(\n",
    "        code=row['종목코드'],\n",
    "        industry_code=row['업종코드'],\n",
    "        name_ko=row['기업명']\n",
    "    ) \n"
   ]
  },
  {
   "cell_type": "code",
   "execution_count": 1,
   "metadata": {},
   "outputs": [
    {
     "output_type": "error",
     "ename": "ModuleNotFoundError",
     "evalue": "No module named 'stock'",
     "traceback": [
      "\u001b[0;31m---------------------------------------------------------------------------\u001b[0m",
      "\u001b[0;31mModuleNotFoundError\u001b[0m                       Traceback (most recent call last)",
      "\u001b[0;32m<ipython-input-1-c38e79cf1733>\u001b[0m in \u001b[0;36m<module>\u001b[0;34m\u001b[0m\n\u001b[0;32m----> 1\u001b[0;31m \u001b[0;32mfrom\u001b[0m \u001b[0mstock\u001b[0m\u001b[0;34m.\u001b[0m\u001b[0mmodels\u001b[0m\u001b[0;34m.\u001b[0m\u001b[0mstock\u001b[0m \u001b[0;32mimport\u001b[0m \u001b[0mCompany\u001b[0m \u001b[0;32mas\u001b[0m \u001b[0mm\u001b[0m\u001b[0;34m\u001b[0m\u001b[0;34m\u001b[0m\u001b[0m\n\u001b[0m\u001b[1;32m      2\u001b[0m \u001b[0mquery\u001b[0m \u001b[0;34m=\u001b[0m \u001b[0mm\u001b[0m\u001b[0;34m.\u001b[0m\u001b[0mobjects\u001b[0m\u001b[0;34m.\u001b[0m\u001b[0mvalues_list\u001b[0m\u001b[0;34m(\u001b[0m\u001b[0;34m'code'\u001b[0m\u001b[0;34m)\u001b[0m\u001b[0;34m\u001b[0m\u001b[0;34m\u001b[0m\u001b[0m\n\u001b[1;32m      3\u001b[0m \u001b[0;34m\u001b[0m\u001b[0m\n\u001b[1;32m      4\u001b[0m \u001b[0;34m\u001b[0m\u001b[0m\n\u001b[1;32m      5\u001b[0m \u001b[0mdfs\u001b[0m \u001b[0;34m=\u001b[0m \u001b[0;34m{\u001b[0m\u001b[0;34m}\u001b[0m\u001b[0;34m\u001b[0m\u001b[0;34m\u001b[0m\u001b[0m\n",
      "\u001b[0;31mModuleNotFoundError\u001b[0m: No module named 'stock'"
     ]
    }
   ],
   "source": [
    "\n",
    "from stock.models.stock import Company as m \n",
    "query = m.objects.values_list('code') \n",
    "\n",
    "\n",
    "dfs = {} \n",
    "for q in query: \n",
    "    dfs[q[0]] = pdr.get_data_yahoo(f'{q[0]}.KS', '1995-09-28') \n",
    "    exit()"
   ]
  },
  {
   "cell_type": "code",
   "execution_count": null,
   "metadata": {},
   "outputs": [],
   "source": [
    "...: for corper in list(dfs.keys()):  \n",
    "    ...:      dfs[corper] = dfs[corper].reset_index().rename(columns={'index': 'date'}) \n",
    "    ...:      dfs[corper] = dfs[corper].fillna(method='ffill') \n",
    "    ...:      for row in  dfs[corper].iterrows():  \n",
    "    ...:         row = row[1]  \n",
    "    ...:         DailyPrice.objects.get_or_create(  \n",
    "    ...:             code = companies[row['code']],  \n",
    "    ...:             date = row['Date'],  \n",
    "    ...:             volume = row['Volume'],  \n",
    "    ...:             open_price = row['Open'],  \n",
    "    ...:             high_price = row['High'],  \n",
    "    ...:             close_price = row['Close'],  \n",
    "    ...:             low_price = row['Low']  \n",
    "    ...:         )  \n",
    "    ...:  \n"
   ]
  }
 ]
}