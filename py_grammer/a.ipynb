{
 "metadata": {
  "language_info": {
   "codemirror_mode": {
    "name": "ipython",
    "version": 3
   },
   "file_extension": ".py",
   "mimetype": "text/x-python",
   "name": "python",
   "nbconvert_exporter": "python",
   "pygments_lexer": "ipython3",
   "version": "3.8.3-final"
  },
  "orig_nbformat": 2,
  "kernelspec": {
   "name": "python38364bitmconda292a4eafb10f4347bf8908a2749a27b8",
   "display_name": "Python 3.8.3 64-bit ('m': conda)"
  }
 },
 "nbformat": 4,
 "nbformat_minor": 2,
 "cells": [
  {
   "cell_type": "code",
   "execution_count": 1,
   "metadata": {},
   "outputs": [],
   "source": [
    "import tensorflow as tf\n",
    "import numpy as np\n",
    "import timeit as t"
   ]
  },
  {
   "cell_type": "code",
   "execution_count": 2,
   "metadata": {
    "tags": []
   },
   "outputs": [
    {
     "output_type": "stream",
     "name": "stdout",
     "text": "100\n3\n"
    }
   ],
   "source": [
    "# tuple 은 여러 것들을 원소로 가질수 있으며 불변 심지어 함수까지.. ㄷ ㄷ\n",
    "mix_dog = (np.max, abs, [1, 2, 3], 'sp')\n",
    "print(mix_dog[1](-10 * 10 )) # abs\n",
    "print(mix_dog[0](mix_dog[2]))"
   ]
  },
  {
   "cell_type": "code",
   "execution_count": 6,
   "metadata": {
    "tags": []
   },
   "outputs": [
    {
     "output_type": "stream",
     "name": "stdout",
     "text": "0.0012485360000482615\n0.05546483900002386\n"
    }
   ],
   "source": [
    "# 순회속도는 다들 비슷 검색속도는 집합이 월등\n",
    "search_test = \"\"\"\n",
    "import random as rand\n",
    "x = rand.randint(0 ,len(itr)-1)\n",
    "if x in itr: pass\"\"\"\n",
    "print(t.timeit(search_test, setup='itr = set(range(10000))', number=1000)) # number is epoch\n",
    "print(t.timeit(search_test, setup='itr = list(range(10000))', number=1000))"
   ]
  },
  {
   "cell_type": "code",
   "execution_count": 13,
   "metadata": {},
   "outputs": [
    {
     "output_type": "execute_result",
     "data": {
      "text/plain": "3"
     },
     "metadata": {},
     "execution_count": 13
    }
   ],
   "source": []
  },
  {
   "cell_type": "code",
   "execution_count": 14,
   "metadata": {},
   "outputs": [
    {
     "output_type": "execute_result",
     "data": {
      "text/plain": "(<function numpy.amax(a, axis=None, out=None, keepdims=<no value>, initial=<no value>, where=<no value>)>,\n <function abs(x, /)>,\n [1, 2, 3],\n 'sp')"
     },
     "metadata": {},
     "execution_count": 14
    }
   ],
   "source": []
  }
 ]
}