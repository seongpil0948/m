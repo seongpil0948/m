{
 "metadata": {
  "language_info": {
   "codemirror_mode": {
    "name": "ipython",
    "version": 3
   },
   "file_extension": ".py",
   "mimetype": "text/x-python",
   "name": "python",
   "nbconvert_exporter": "python",
   "pygments_lexer": "ipython3",
   "version": "3.8.3-final"
  },
  "orig_nbformat": 2,
  "kernelspec": {
   "name": "python38364bitmconda292a4eafb10f4347bf8908a2749a27b8",
   "display_name": "Python 3.8.3 64-bit ('m': conda)"
  }
 },
 "nbformat": 4,
 "nbformat_minor": 2,
 "cells": [
  {
   "cell_type": "code",
   "execution_count": 2,
   "metadata": {},
   "outputs": [],
   "source": [
    "import pandas as pd\n",
    "import numpy as np"
   ]
  },
  {
   "cell_type": "code",
   "execution_count": 3,
   "metadata": {},
   "outputs": [
    {
     "output_type": "execute_result",
     "data": {
      "text/plain": "array([[1, 2, 3],\n       [4, 5, 6],\n       [7, 8, 9]])"
     },
     "metadata": {},
     "execution_count": 3
    }
   ],
   "source": [
    "a = np.array([[1, 2, 3], [4, 5, 6], [7, 8, 9]])\n",
    "b = np.array([[1, 2, 3], [4, 5, 6], [7, 8, 9]]).T\n",
    "\n",
    "a"
   ]
  },
  {
   "cell_type": "code",
   "execution_count": 4,
   "metadata": {},
   "outputs": [
    {
     "output_type": "execute_result",
     "data": {
      "text/plain": "array([[1, 4, 7],\n       [2, 5, 8],\n       [3, 6, 9]])"
     },
     "metadata": {},
     "execution_count": 4
    }
   ],
   "source": [
    "b"
   ]
  },
  {
   "cell_type": "code",
   "execution_count": 6,
   "metadata": {
    "tags": []
   },
   "outputs": [
    {
     "output_type": "execute_result",
     "data": {
      "text/plain": "array([[1, 2, 3, 1, 4, 7],\n       [4, 5, 6, 2, 5, 8],\n       [7, 8, 9, 3, 6, 9]])"
     },
     "metadata": {},
     "execution_count": 6
    }
   ],
   "source": [
    "c = np.array([np.concatenate((a[i], b[i]), axis=0) for i in range(len(a))])\n",
    "c"
   ]
  },
  {
   "cell_type": "code",
   "execution_count": 11,
   "metadata": {},
   "outputs": [
    {
     "output_type": "execute_result",
     "data": {
      "text/plain": "array([[[[1]],\n\n        [[2]],\n\n        [[3]],\n\n        [[1]],\n\n        [[4]],\n\n        [[7]]],\n\n\n       [[[4]],\n\n        [[5]],\n\n        [[6]],\n\n        [[2]],\n\n        [[5]],\n\n        [[8]]],\n\n\n       [[[7]],\n\n        [[8]],\n\n        [[9]],\n\n        [[3]],\n\n        [[6]],\n\n        [[9]]]])"
     },
     "metadata": {},
     "execution_count": 11
    }
   ],
   "source": [
    "d = np.expand_dims(c, axis=2)\n",
    "e = np.expand_dims(d, axis=3)\n",
    "e"
   ]
  },
  {
   "cell_type": "code",
   "execution_count": 12,
   "metadata": {},
   "outputs": [
    {
     "output_type": "execute_result",
     "data": {
      "text/plain": "array([1, 2, 3, 1, 4, 7, 4, 5, 6, 2, 5, 8, 7, 8, 9, 3, 6, 9])"
     },
     "metadata": {},
     "execution_count": 12
    }
   ],
   "source": [
    "e.flatten()"
   ]
  }
 ]
}