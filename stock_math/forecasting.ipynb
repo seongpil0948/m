{
 "metadata": {
  "language_info": {
   "codemirror_mode": {
    "name": "ipython",
    "version": 3
   },
   "file_extension": ".py",
   "mimetype": "text/x-python",
   "name": "python",
   "nbconvert_exporter": "python",
   "pygments_lexer": "ipython3",
   "version": "3.8.3-final"
  },
  "orig_nbformat": 2,
  "kernelspec": {
   "name": "python38364bitmconda292a4eafb10f4347bf8908a2749a27b8",
   "display_name": "Python 3.8.3 64-bit ('m': conda)"
  }
 },
 "nbformat": 4,
 "nbformat_minor": 2,
 "cells": [
  {
   "cell_type": "code",
   "execution_count": 1,
   "metadata": {},
   "outputs": [],
   "source": [
    "import numpy as np"
   ]
  },
  {
   "cell_type": "code",
   "execution_count": 9,
   "metadata": {},
   "outputs": [
    {
     "output_type": "execute_result",
     "data": {
      "text/plain": "[-10, -10, -7, -9, -5, 2, -7, -7, -2, 9]"
     },
     "metadata": {},
     "execution_count": 9
    }
   ],
   "source": [
    "numb = [np.random.randint(-10, 10) for _ in list(range(1, 11))]"
   ]
  },
  {
   "cell_type": "code",
   "execution_count": 10,
   "metadata": {},
   "outputs": [],
   "source": [
    "\"\"\"\n",
    "exponential smoothing \n",
    "    시간의 흐름에 따라 최근 시계열에 더 많은 가중치 부여\n",
    "    불규칙 변동의 영향을 제거하는 영향, 중기 예측 이상에 주로 사용\n",
    "\n",
    "alpha   \n",
    "    불규칙 변동이 큰 시계열 = 작은값  else 큰값 \n",
    "    (between 0.05 ~ 0.3) 시간에 따른 감소\n",
    "    보통 예측오차(잔차 제곱) 이 가장 작은 값이 바람직\n",
    "\n",
    "^yT+1|T=αyT+α(1−α)yT−1+α(1−α)2yT−2+⋯,\n",
    "\"\"\"\n",
    "a = 0.1\n",
    "def exp_smooth(a):\n",
    "    f = 0 # forecasting value\n",
    "    x = 0 # x\n",
    "    for n in numb:\n",
    "        (a * x) + (1 - a)\n",
    "        "
   ]
  },
  {
   "cell_type": "code",
   "execution_count": 12,
   "metadata": {},
   "outputs": [
    {
     "output_type": "execute_result",
     "data": {
      "text/plain": "'^yT+1|T=αyT+α(1−α)yT−1+α(1−α)2yT−2+⋯,'"
     },
     "metadata": {},
     "execution_count": 12
    }
   ],
   "source": [
    "\n"
   ]
  },
  {
   "cell_type": "code",
   "execution_count": null,
   "metadata": {},
   "outputs": [],
   "source": []
  },
  {
   "cell_type": "code",
   "execution_count": null,
   "metadata": {},
   "outputs": [],
   "source": []
  }
 ]
}